{
 "cells": [
  {
   "cell_type": "markdown",
   "id": "daa24b65",
   "metadata": {},
   "source": [
    "### 1.1 Introduction"
   ]
  },
  {
   "cell_type": "markdown",
   "id": "a94a424b",
   "metadata": {},
   "source": [
    "In statistics, we often use data to answer questions like:\n",
    "- Is a newly developed drug more effective than one currently in use? • \n",
    "- Is there a still a sex effect in salaries? After accounting for other relevant variables, is there a difference in salaries between men and women? Can we estimate the size of this effect for different occupations?\n",
    "- Can post-menopausal women lower their heart attack risk by undergoing hormone replacement therapy?\n",
    "\n",
    "Before we move on to answering these types of questions using statistical inference techniques, we will first explore the basics of descriptive statistics."
   ]
  },
  {
   "cell_type": "markdown",
   "id": "9372dbcf",
   "metadata": {},
   "source": [
    "### 1.2 Descriptive Statistics"
   ]
  },
  {
   "cell_type": "markdown",
   "id": "c222de43",
   "metadata": {},
   "source": [
    "In descriptive statistics, plots and numerical summaries are used to describe a data set."
   ]
  },
  {
   "cell_type": "code",
   "execution_count": 1,
   "id": "2413451f",
   "metadata": {},
   "outputs": [
    {
     "data": {
      "image/png": "[encoded data removed]",
      "text/plain": [
       "<Figure size 300x300 with 1 Axes>"
      ]
     },
     "metadata": {},
     "output_type": "display_data"
    }
   ],
   "source": [
    "import matplotlib.pyplot as plt\n",
    "import numpy as np\n",
    "\n",
    "#  Generate data for the histogram \n",
    "# Generating 100 random values with a normal distribution (mean = 0, standard deviation = 1)\n",
    "data = np.random.randn(100)  \n",
    "plt.figure(figsize=(3, 3))\n",
    "plt.hist(data, bins=10, color='blue', edgecolor='black')\n",
    "# 'data' contains the data points to be plotted in the histogram.\n",
    "# 'bins' specifies the number of intervals (bars) in the histogram.\n",
    "\n",
    "# Label for the x-axis.\n",
    "plt.xlabel('Values')  \n",
    "# Label for the y-axis.\n",
    "plt.ylabel('Frequency')  \n",
    "# Title of the histogram.\n",
    "plt.title('Histogram')  \n",
    "\n",
    "# This function displays the histogram plot.\n",
    "plt.show()"
   ]
  },
  {
   "cell_type": "code",
   "execution_count": 2,
   "id": "0e60ccde",
   "metadata": {},
   "outputs": [
    {
     "data": {
      "image/png": "[encoded data removed]",
      "text/plain": [
       "<Figure size 300x300 with 1 Axes>"
      ]
     },
     "metadata": {},
     "output_type": "display_data"
    }
   ],
   "source": [
    "import matplotlib.pyplot as plt\n",
    "import numpy as np\n",
    "\n",
    "# Generate data for the boxplot\n",
    "# Generating 100 random values with a normal distribution (mean = 0, standard deviation = 1)\n",
    "data = np.random.randn(100)  \n",
    "\n",
    "# Create the boxplot with adjusted figure size\n",
    "plt.figure(figsize=(3, 3)) \n",
    "plt.boxplot(data)\n",
    "# 'data' contains the data points for which you want to create the boxplot.\n",
    "# The boxplot will show the distribution and statistical summary of the data.\n",
    "\n",
    "plt.xlabel('Data')  # Label for the x-axis.\n",
    "plt.ylabel('Values')  # Label for the y-axis.\n",
    "plt.title('Boxplot')  # Title of the boxplot.\n",
    "\n",
    "# This function displays the boxplot.\n",
    "plt.show()"
   ]
  },
  {
   "cell_type": "markdown",
   "id": "b233b8ad",
   "metadata": {},
   "source": [
    "Plots like these can give an effective visual summary of the data. But we are also interested in numerical summary statistics, such as the mean, median, and\n",
    "variance."
   ]
  },
  {
   "cell_type": "markdown",
   "id": "3faec936",
   "metadata": {},
   "source": [
    "### 1.3 Inferential Statistics"
   ]
  },
  {
   "cell_type": "markdown",
   "id": "d4085956",
   "metadata": {},
   "source": [
    "Inferential statistics is a branch of statistics that involves making predictions, inferences, or generalizations about a population based on a sample of data taken from that population. The main goal of inferential statistics is to draw conclusions and make predictions about a larger group (the population) based on the observed data from a smaller subset (the sample).\n",
    "\n",
    "Inferential statistics is used to make educated guesses or test hypotheses about the relationships or differences between variables within the population. It allows researchers and analysts to make inferences about parameters, such as means, proportions, or correlations, that describe the entire population, even though they may not have access to data from every individual in that population.\n",
    "\n",
    "To achieve this, inferential statistics relies on probability theory and various statistical techniques. Common methods used in inferential statistics include hypothesis testing, confidence intervals, regression analysis, and analysis of variance (ANOVA), among others."
   ]
  }
 ],
 "metadata": {
  "kernelspec": {
   "display_name": "Python 3 (ipykernel)",
   "language": "python",
   "name": "python3"
  },
  "language_info": {
   "codemirror_mode": {
    "name": "ipython",
    "version": 3
   },
   "file_extension": ".py",
   "mimetype": "text/x-python",
   "name": "python",
   "nbconvert_exporter": "python",
   "pygments_lexer": "ipython3",
   "version": "3.10.9"
  }
 },
 "nbformat": 4,
 "nbformat_minor": 5
}
